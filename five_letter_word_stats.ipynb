{
 "cells": [
  {
   "cell_type": "code",
   "execution_count": 1,
   "metadata": {},
   "outputs": [],
   "source": [
    "alphabet = ['a', 'b', 'c', 'd', 'e', 'f', 'g', 'h', 'i', 'j', 'k', 'l', 'm', 'n', 'o', 'p', 'q', 'r', 's', 't', 'u', 'v', 'w', 'x', 'y', 'z']\n",
    "with open(\"wordlelist.txt\") as doc:\n",
    "    word_text = doc.read()\n",
    "word_list = word_text.splitlines();\n"
   ]
  },
  {
   "cell_type": "code",
   "execution_count": 4,
   "metadata": {},
   "outputs": [],
   "source": [
    "letter_count = 0\n",
    "alphabet_count = {letter: letter_count for letter in alphabet}\n",
    "for letter in alphabet:\n",
    "    for word in word_list:\n",
    "        if letter in word:\n",
    "            alphabet_count[letter] += 1\n",
    "    \n",
    "alphabet_count;"
   ]
  }
 ],
 "metadata": {
  "interpreter": {
   "hash": "9da2dd92d90dee8771575dabcea7aff546e484abad19c555a2e5286bc8a19d9e"
  },
  "kernelspec": {
   "display_name": "Python 3.9.1 64-bit",
   "language": "python",
   "name": "python3"
  },
  "language_info": {
   "codemirror_mode": {
    "name": "ipython",
    "version": 3
   },
   "file_extension": ".py",
   "mimetype": "text/x-python",
   "name": "python",
   "nbconvert_exporter": "python",
   "pygments_lexer": "ipython3",
   "version": "3.9.1"
  },
  "orig_nbformat": 4
 },
 "nbformat": 4,
 "nbformat_minor": 2
}
